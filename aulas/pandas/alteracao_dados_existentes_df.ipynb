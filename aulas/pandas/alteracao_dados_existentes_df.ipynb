{
 "cells": [
  {
   "cell_type": "markdown",
   "metadata": {},
   "source": [
    "Alteração de dados existentes em um dataframe"
   ]
  },
  {
   "cell_type": "code",
   "execution_count": null,
   "metadata": {},
   "outputs": [],
   "source": [
    "import pandas as pd\n",
    "\n",
    "pedidos = pd.read_csv('arquivos/pedidos.csv')\n",
    "# Substituir o valor dentro de uma linha e coluna\n",
    "pedidos.at[0,'produto'] = 'Mochila Escolar'\n",
    "# Substituir todos valores de uma coluna\n",
    "# pedidos['status_pedido'] = 'Entregue'\n",
    "# Substituir valores em uma coluna com base em uma condição?\n",
    "pedidos.loc[pedidos['metodo_pagamento'] == 'Cartão de Crédito','metodo_pagamento'] = 'Parcelado'\n",
    "pedidos.loc[pedidos['tempo_entrega_dias'] > 7,'tempo_entrega_dias'] = 8\n",
    "# Substituir o nome de uma coluna\n",
    "pedidos = pedidos.rename(columns={'preco_unitario':'preco'})\n",
    "# Aplicar funções de modificação de valor em uma coluna\n",
    "def aumentar_em_10_porcento(preco):\n",
    "    return preco * 1.1 # aumento de 10%\n",
    "\n",
    "pedidos['custo_envio'] = pedidos['custo_envio'].apply(aumentar_em_10_porcento)\n",
    "pedidos.head(100)\n",
    "# Alterar valores dentro de uma coluna, com base em um mapeamento \n",
    "novo_status_pedido = {\n",
    "    'Processando': 'P',\n",
    "    'Entregue': 'E',\n",
    "    'Cancelado': 'C'\n",
    "}\n",
    "pedidos['status_pedido'] = pedidos['status_pedido'].map(novo_status_pedido)\n",
    "pedidos.head(100)\n",
    "\n",
    "pedidos['metodo_pagamento'] = pedidos['metodo_pagamento'].map(lambda texto: texto + ' metodo de pagamento' )\n",
    "pedidos.head(100)\n"
   ]
  }
 ],
 "metadata": {
  "kernelspec": {
   "display_name": "Python 3",
   "language": "python",
   "name": "python3"
  },
  "language_info": {
   "name": "python",
   "version": "3.10.11"
  }
 },
 "nbformat": 4,
 "nbformat_minor": 2
}
