{
 "cells": [
  {
   "cell_type": "markdown",
   "metadata": {},
   "source": [
    "Como exportar para CSV, XLSX ou \n",
    "\n",
    "Link mencionado na aula: https://pandas.pydata.org/docs/reference/io.html"
   ]
  },
  {
   "cell_type": "code",
   "execution_count": null,
   "metadata": {},
   "outputs": [],
   "source": [
    "import pandas as pd\n",
    "\n",
    "# Ler\n",
    "clientes = pd.read_csv('./clientes.csv')\n",
    "# Limpar\n",
    "clientes.dropna()\n",
    "\n",
    "# Exportar\n",
    "\n",
    "# CSV\n",
    "clientes.to_csv('./clientes_limpo.csv',index=False)\n",
    "# XLSX\n",
    "clientes.to_excel('./clientes_limpo.xlsx',index=False)\n",
    "# JSON\n",
    "clientes.to_json('./clientes_limpo.json',index=False)"
   ]
  }
 ],
 "metadata": {
  "kernelspec": {
   "display_name": "Python 3",
   "language": "python",
   "name": "python3"
  },
  "language_info": {
   "name": "python",
   "version": "3.10.11"
  }
 },
 "nbformat": 4,
 "nbformat_minor": 2
}
