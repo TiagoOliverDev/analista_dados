# Tarefa 1
"""
Calcule a média e a mediana das vendas para cada categoria de produto, ou seja, para cada agrupamento de categoria de produto, com base nos produtos e vendas registradas no arquivo vendas_supermercado.cs
"""
import pandas as pd
mercado = pd.read_csv('./vendas_supermercado.csv')
vendas_por_categoria = mercado.groupby('Categoria')['Vendas'].agg(['mean', 'median'])
vendas_por_categoria


# Tarefa 2 - Identificação de Padrões Temporais nas Vendas
# Me diga qual é a média de vendas de acordo com cada dia da semana, com base nos dados registrados no arquivo vendas_supermercado.csv

# Resolução da Tarefa 2: Converter datas e agrupar por dia da semana

mercado['Data do Pedido'] = pd.to_datetime(mercado['Data do Pedido'])
mercado['Dia da Semana'] = mercado['Data do Pedido'].dt.dayofweek

dias_semana = {0: 'Segunda', 1: 'Terça', 2: 'Quarta', 3: 'Quinta', 4: 'Sexta', 5: 'Sábado', 6: 'Domingo'}

mercado['Dia da Semana'] = mercado['Dia da Semana'].map(dias_semana)

vendas_por_dia = mercado.groupby('Dia da Semana')['Vendas'].mean()
vendas_por_dia

# Tarefa 3 - Análise dos Métodos de Pagamento
# Me diga o quanto (total) cada tipo de pagamento é utilizado, com base nos produtos e vendas registradas no arquivo vendas_supermercado.csv
frequencia_pagamento = mercado['Método de Pagamento'].value_counts()
frequencia_pagamento
