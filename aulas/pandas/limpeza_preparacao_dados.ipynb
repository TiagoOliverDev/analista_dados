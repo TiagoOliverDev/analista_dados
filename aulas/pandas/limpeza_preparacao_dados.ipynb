{
 "cells": [
  {
   "cell_type": "markdown",
   "metadata": {},
   "source": [
    "Limpeza e Preparação de Dados"
   ]
  },
  {
   "cell_type": "code",
   "execution_count": 1,
   "metadata": {},
   "outputs": [],
   "source": [
    "import pandas as pd\n",
    "\n",
    "clientes = pd.read_csv('arquivos/clientes.csv')\n",
    "pedidos = pd.read_csv('arquivos/pedidos.csv')\n",
    "\n",
    "# Como identificar valores nulos\n",
    "clientes.isnull().sum()\n",
    "pedidos.isnull().sum()\n",
    "\n",
    "# Para preencher as células que possuem valores vazios, com base em uma coluna\n",
    "pedidos['custo_envio'] = pedidos['custo_envio'].fillna(9999)\n",
    "pedidos.isnull().sum()\n",
    "pedidos['tempo_entrega_dias'] = pedidos['tempo_entrega_dias'].fillna(pedidos['tempo_entrega_dias'].mean())\n",
    "pedidos.isnull().sum()\n",
    "\n",
    "# Caso queira remover a linha que possui valores nulos, com base em uma coluna\n",
    "pedidos = pedidos.dropna(subset=['custo_envio'])\n",
    "pedidos.isnull().sum()\n",
    "# Para remover as linhas que possuem valores nulos em qualquer coluna\n",
    "pedidos = pedidos.dropna()\n",
    "pedidos.isnull().sum()\n",
    "\n",
    "# Contando duplicatas\n",
    "clientes.duplicated('email').sum()\n",
    "clientes.describe()\n",
    "# remover duplicados com base em coluna\n",
    "clientes = clientes.drop_duplicates('email')\n",
    "clientes.describe()\n",
    "\n",
    "clientes.to_csv('arquivos/clientes_limpo.csv',index=False)\n"
   ]
  }
 ],
 "metadata": {
  "kernelspec": {
   "display_name": "Python 3",
   "language": "python",
   "name": "python3"
  },
  "language_info": {
   "codemirror_mode": {
    "name": "ipython",
    "version": 3
   },
   "file_extension": ".py",
   "mimetype": "text/x-python",
   "name": "python",
   "nbconvert_exporter": "python",
   "pygments_lexer": "ipython3",
   "version": "3.10.11"
  }
 },
 "nbformat": 4,
 "nbformat_minor": 2
}
