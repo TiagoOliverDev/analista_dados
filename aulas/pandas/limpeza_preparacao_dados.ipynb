{
 "cells": [
  {
   "cell_type": "markdown",
   "metadata": {},
   "source": [
    "Limpeza e Preparação de Dados"
   ]
  },
  {
   "cell_type": "code",
   "execution_count": 1,
   "metadata": {},
   "outputs": [
    {
     "ename": "ModuleNotFoundError",
     "evalue": "No module named 'pandas'",
     "output_type": "error",
     "traceback": [
      "\u001b[1;31m---------------------------------------------------------------------------\u001b[0m",
      "\u001b[1;31mModuleNotFoundError\u001b[0m                       Traceback (most recent call last)",
      "Cell \u001b[1;32mIn[1], line 1\u001b[0m\n\u001b[1;32m----> 1\u001b[0m \u001b[38;5;28;01mimport\u001b[39;00m\u001b[38;5;250m \u001b[39m\u001b[38;5;21;01mpandas\u001b[39;00m\u001b[38;5;250m \u001b[39m\u001b[38;5;28;01mas\u001b[39;00m\u001b[38;5;250m \u001b[39m\u001b[38;5;21;01mpd\u001b[39;00m\n\u001b[0;32m      3\u001b[0m clientes \u001b[38;5;241m=\u001b[39m pd\u001b[38;5;241m.\u001b[39mread_csv(\u001b[38;5;124m'\u001b[39m\u001b[38;5;124marquivos/clientes.csv\u001b[39m\u001b[38;5;124m'\u001b[39m)\n\u001b[0;32m      4\u001b[0m pedidos \u001b[38;5;241m=\u001b[39m pd\u001b[38;5;241m.\u001b[39mread_csv(\u001b[38;5;124m'\u001b[39m\u001b[38;5;124marquivos/pedidos.csv\u001b[39m\u001b[38;5;124m'\u001b[39m)\n",
      "\u001b[1;31mModuleNotFoundError\u001b[0m: No module named 'pandas'"
     ]
    }
   ],
   "source": [
    "import pandas as pd\n",
    "\n",
    "clientes = pd.read_csv('arquivos/clientes.csv')\n",
    "pedidos = pd.read_csv('arquivos/pedidos.csv')\n",
    "\n",
    "# Como identificar valores nulos\n",
    "clientes.isnull().sum()\n",
    "pedidos.isnull().sum()\n",
    "\n",
    "# Para preencher as células que possuem valores vazios, com base em uma coluna\n",
    "pedidos['custo_envio'] = pedidos['custo_envio'].fillna(9999)\n",
    "pedidos.isnull().sum()\n",
    "pedidos['tempo_entrega_dias'] = pedidos['tempo_entrega_dias'].fillna(pedidos['tempo_entrega_dias'].mean())\n",
    "pedidos.isnull().sum()\n",
    "\n",
    "# Caso queira remover a linha que possui valores nulos, com base em uma coluna\n",
    "pedidos = pedidos.dropna(subset=['custo_envio'])\n",
    "pedidos.isnull().sum()\n",
    "# Para remover as linhas que possuem valores nulos em qualquer coluna\n",
    "pedidos = pedidos.dropna()\n",
    "pedidos.isnull().sum()\n",
    "\n",
    "# Contando duplicatas\n",
    "clientes.duplicated('email').sum()\n",
    "clientes.describe()\n",
    "# remover duplicados com base em coluna\n",
    "clientes = clientes.drop_duplicates('email')\n",
    "clientes.describe()\n",
    "\n",
    "clientes.to_csv('arquivos/clientes_limpo.csv',index=False)\n"
   ]
  }
 ],
 "metadata": {
  "kernelspec": {
   "display_name": "envdados",
   "language": "python",
   "name": "python3"
  },
  "language_info": {
   "codemirror_mode": {
    "name": "ipython",
    "version": 3
   },
   "file_extension": ".py",
   "mimetype": "text/x-python",
   "name": "python",
   "nbconvert_exporter": "python",
   "pygments_lexer": "ipython3",
   "version": "3.10.11"
  }
 },
 "nbformat": 4,
 "nbformat_minor": 2
}
