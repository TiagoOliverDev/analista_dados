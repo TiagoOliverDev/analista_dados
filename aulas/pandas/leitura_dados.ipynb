{
 "cells": [
  {
   "cell_type": "markdown",
   "metadata": {},
   "source": [
    "Leitura de dados a partir de CSV, XLSX e TXT"
   ]
  },
  {
   "cell_type": "code",
   "execution_count": null,
   "metadata": {},
   "outputs": [
    {
     "name": "stdout",
     "output_type": "stream",
     "text": [
      "    id_cliente                      nome  \\\n",
      "90          91         Dr. Thomas Santos   \n",
      "91          92       Srta. Joana Martins   \n",
      "92          93             Benício Cunha   \n",
      "93          94          João Lucas Costa   \n",
      "94          95  Luiz Henrique Nascimento   \n",
      "95          96                 Laís Lima   \n",
      "96          97            Stephany Pires   \n",
      "97          98     Lucas Gabriel Barbosa   \n",
      "98          99          Olivia Gonçalves   \n",
      "99         100        Ana Sophia Cardoso   \n",
      "\n",
      "                                             endereco  \\\n",
      "90  Estrada Theo Campos, 67\\nBonfim\\n75357790 Nune...   \n",
      "91  Núcleo das Neves, 49\\nBiquinhas\\n18560-598 Mon...   \n",
      "92        Setor Rodrigues\\nGraça\\n28917211 Cunha / AC   \n",
      "93  Pátio da Mata, 917\\nVila Calafate\\n55170031 Co...   \n",
      "94  Morro Melissa Duarte, 175\\nFlavio De Oliveira\\...   \n",
      "95  Viela de Almeida\\nSanta Isabel\\n44065-020 Mart...   \n",
      "96  Recanto da Rocha, 43\\nVila União\\n48575-899 Co...   \n",
      "97  Favela Ana Sophia Ferreira, 82\\nFuncionários\\n...   \n",
      "98  Avenida Carlos Eduardo Moura, 77\\nBonsucesso\\n...   \n",
      "99  Colônia de Rezende\\nBelmonte\\n95626827 Ribeiro...   \n",
      "\n",
      "                           email data_nascimento       sexo nivel_fidelidade  \n",
      "90            uviana@example.org      1943-09-17  Masculino          Platina  \n",
      "91     araujocecilia@example.net      1966-06-19   Feminino             Ouro  \n",
      "92    biancacarvalho@example.com      1991-11-12   Feminino          Platina  \n",
      "93          vcorreia@example.org      1945-11-21  Masculino            Prata  \n",
      "94      da-pazesther@example.net      1950-10-07   Feminino              NaN  \n",
      "95   silveiramarcelo@example.com      1935-06-22   Feminino          Platina  \n",
      "96            kalves@example.org      1944-10-01  Masculino             Ouro  \n",
      "97            bramos@example.com      2003-04-30  Masculino             Ouro  \n",
      "98         csilveira@example.org      1994-11-16   Feminino           Bronze  \n",
      "99  catarinaoliveira@example.com      1995-06-11  Masculino              NaN  \n"
     ]
    }
   ],
   "source": [
    "import pandas as pd\n",
    "\n",
    "# Leitura de dados\n",
    "clientes = pd.read_csv('arquivos/clientes.csv')\n",
    "# Manipulando os primeiros 10 registros\n",
    "primeiros_clientes = clientes.head(10)\n",
    "filtros_clientes = clientes[['nome', 'email']].head(10)\n",
    "# print(primeiros_clientes) \n",
    "# print(filtros_clientes)\n",
    "\n",
    "# Manipulando os últimos 10 registros\n",
    "ultimos_clientes = clientes.tail(10)\n",
    "# print(ultimos_clientes)\n",
    "\n",
    "# Como carregar arquivos .XLSX(planilhas)\n",
    "clientes_xlsx = pd.read_excel('arquivos/clientes.xlsx')\n",
    "clientes_xlsx_iniciais = clientes_xlsx.head(10)\n",
    "\n",
    "# Como carregar arquivos .txt\n",
    "clientes_txt = pd.read_csv('arquivos/clientes.txt', delimiter=';')\n",
    "clientes_txt_iniciais = clientes_txt.head(10)\n",
    "\n",
    "\n",
    "\n",
    "\n"
   ]
  }
 ],
 "metadata": {
  "kernelspec": {
   "display_name": "Python 3",
   "language": "python",
   "name": "python3"
  },
  "language_info": {
   "codemirror_mode": {
    "name": "ipython",
    "version": 3
   },
   "file_extension": ".py",
   "mimetype": "text/x-python",
   "name": "python",
   "nbconvert_exporter": "python",
   "pygments_lexer": "ipython3",
   "version": "3.10.11"
  }
 },
 "nbformat": 4,
 "nbformat_minor": 2
}
