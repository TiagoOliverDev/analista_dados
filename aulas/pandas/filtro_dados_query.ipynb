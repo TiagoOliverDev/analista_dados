{
 "cells": [
  {
   "cell_type": "markdown",
   "metadata": {},
   "source": [
    "Filtragem de dados com Query"
   ]
  },
  {
   "cell_type": "code",
   "execution_count": null,
   "metadata": {},
   "outputs": [],
   "source": [
    "import pandas as pd\n",
    "\n",
    "pedidos = pd.read_csv('arquivos/pedidos.csv')\n",
    "pedidos.head(5)\n",
    "# Forma \"pandas\" - () & |\n",
    "# Registro com preco_unitario acima de 500 e metodo_pagamento = Pix\n",
    "pedidos_1 = pedidos[(pedidos['preco_unitario'] > 500) & (pedidos['metodo_pagamento'] == 'Pix')]\n",
    "pedidos_1.head(5)\n",
    "# Query(sintaxe \"tradicional\") and or\n",
    "pedidos_2 = pedidos.query('preco_unitario > 500 and metodo_pagamento == \"Pix\"')\n",
    "pedidos_2.head(5)\n",
    "# Registros com preco_unitario acima de 500 e metodo_pagamento ser Pix ou Boleto\n",
    "pedidos_3 = pedidos.query('preco_unitario > 500 and metodo_pagamento in [\"Pix\",\"Boleto\"]')\n",
    "pedidos_4 = pedidos[(pedidos['preco_unitario'] > 500) & (pedidos['metodo_pagamento'].isin(['Pix','Boleto']))]\n",
    "pedidos_3.head(5)\n",
    "pedidos_4.head(15)\n",
    "\n",
    "\n",
    "\n"
   ]
  }
 ],
 "metadata": {
  "kernelspec": {
   "display_name": "Python 3",
   "language": "python",
   "name": "python3"
  },
  "language_info": {
   "name": "python",
   "version": "3.10.11"
  }
 },
 "nbformat": 4,
 "nbformat_minor": 2
}
