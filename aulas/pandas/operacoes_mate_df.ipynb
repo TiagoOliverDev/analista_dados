{
 "cells": [
  {
   "cell_type": "markdown",
   "id": "47c1808d",
   "metadata": {},
   "source": [
    " Como Aplicar Operações Matemáticas num dataframe"
   ]
  },
  {
   "cell_type": "code",
   "execution_count": null,
   "id": "569e135e",
   "metadata": {},
   "outputs": [],
   "source": [
    "import pandas as pd\n",
    "\n",
    "supermercado = pd.read_csv('arquivos/vendas-supermercado.csv')\n",
    "print(supermercado[['Vendas']].head(1))\n",
    "# Operações básicas (soma, subtração, multiplição, divisão)\n",
    "# supermercado['Vendas'] = supermercado['Vendas'] + 2\n",
    "supermercado[['Vendas']].head(1)\n",
    "# Cálculos percentuais (aplicar desconto de 20%)\n",
    "supermercado['Vendas'] = supermercado['Vendas'] * 0.80\n",
    "supermercado[['Vendas']].head(1)\n",
    "# Operações matemáticas baseadas em condições (aplicar 10% de desconto na categoria móveis)\n",
    "supermercado.loc[supermercado['Categoria'] == 'Móveis','Vendas'] *= 0.9\n",
    "print(supermercado[['Categoria','Vendas']].head(5))\n"
   ]
  }
 ],
 "metadata": {
  "kernelspec": {
   "display_name": "Python 3",
   "language": "python",
   "name": "python3"
  },
  "language_info": {
   "name": "python",
   "version": "3.10.11"
  }
 },
 "nbformat": 4,
 "nbformat_minor": 5
}
