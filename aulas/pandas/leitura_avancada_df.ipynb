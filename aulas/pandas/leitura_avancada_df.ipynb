{
 "cells": [
  {
   "cell_type": "markdown",
   "metadata": {},
   "source": [
    " Leitura avançada de um dataframe"
   ]
  },
  {
   "cell_type": "code",
   "execution_count": null,
   "metadata": {},
   "outputs": [],
   "source": [
    "import pandas as pd\n",
    "\n",
    "pedidos = pd.read_csv('arquivos/pedidos.csv')\n",
    "\n",
    "# Acessar uma linha\n",
    "pedidos.iloc[2]\n",
    "# Faixa de valores\n",
    "pedidos.iloc[1:4]\n",
    "# Visualizar nomes das colunas\n",
    "pedidos.columns\n",
    "# Total de registros em determinada coluna, sepaprados por grupos\n",
    "pedidos['metodo_pagamento'].value_counts()\n",
    "# Valores únicos em uma coluna\n",
    "pedidos['metodo_pagamento'].unique()\n",
    "# Conteúdos de uma coluna\n",
    "pedidos['produto'].head(5)\n",
    "# Conteúdos de uma coluna de uma linha específica\n",
    "pedidos['produto'][2]\n",
    "# Conteúdos de várias colunas\n",
    "pedidos[['produto','categoria']].head(10)\n",
    "# Uma célula em específico(L,C)\n",
    "pedidos.iloc[1,3]\n",
    "# Encontrar com base em informação textual\n",
    "pedidos.loc[pedidos['categoria'] == 'Lazer']\n"
   ]
  }
 ],
 "metadata": {
  "kernelspec": {
   "display_name": "Python 3",
   "language": "python",
   "name": "python3"
  },
  "language_info": {
   "name": "python",
   "version": "3.10.11"
  }
 },
 "nbformat": 4,
 "nbformat_minor": 2
}
