{
 "cells": [
  {
   "cell_type": "markdown",
   "id": "810d3ccc",
   "metadata": {},
   "source": [
    "Agregações e Resumos Complexos"
   ]
  },
  {
   "cell_type": "code",
   "execution_count": null,
   "id": "d3f29cda",
   "metadata": {},
   "outputs": [],
   "source": [
    "import pandas as pd\n",
    "\n",
    "mercado = pd.read_csv('vendas-supermercado.csv')\n",
    "# Agrupamento + aplicação de um única cálculo estatístico - Agrupamento do total de vendas, por categoria\n",
    "agregacao_basica = mercado.groupby('Categoria')['Vendas'].sum()\n",
    "agregacao_basica\n",
    "# Agrupamento + aplicação de um única cálculo estatístico(opção 2)\n",
    "agregacao_basica_2 = mercado.groupby('Categoria')['Vendas'].agg(['sum'])\n",
    "agregacao_basica_2\n",
    "# Agrupamento + aplicação de múltiplos cálculos estatísticos em uma única coluna\n",
    "agregacao_3 = mercado.groupby('Categoria')['Vendas'].agg(['sum','mean','std','max','min','count'])\n",
    "agregacao_3\n",
    "# Agrupamento + aplicação de múltiplos cálculos estatísticos em múltiplas colunas\n",
    "agregacao_4 = mercado.groupby(['Categoria','Região'])['Vendas'].agg(['sum','mean','std','max','min','count'])\n",
    "agregacao_4\n",
    "# Agrupamento + aplicações de cálculos estatísticos diferentes em cada coluna\n",
    "resumo_multidimensional = mercado.groupby(['Categoria']).agg({'Vendas': 'sum', 'Lucro': 'mean'})\n",
    "resumo_multidimensional\n",
    "# Agrupamento + aplicações de cálculos estatísticos diferentes em cada coluna\n",
    "agregacao_basica_2 = mercado.groupby('Categoria')['Vendas'].agg(['sum'])\n",
    "agregacao_5 = mercado.groupby('Categoria').agg({'Vendas': 'sum','Desconto':'mean','Quantidade':'mean'})\n",
    "agregacao_5\n",
    "\n",
    "\n"
   ]
  }
 ],
 "metadata": {
  "kernelspec": {
   "display_name": "Python 3",
   "language": "python",
   "name": "python3"
  },
  "language_info": {
   "name": "python",
   "version": "3.10.11"
  }
 },
 "nbformat": 4,
 "nbformat_minor": 5
}
