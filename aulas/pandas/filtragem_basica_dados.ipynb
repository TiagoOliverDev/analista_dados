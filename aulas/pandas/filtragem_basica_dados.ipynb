{
 "cells": [
  {
   "cell_type": "markdown",
   "metadata": {},
   "source": [
    "Filtragem de dados Básica"
   ]
  },
  {
   "cell_type": "code",
   "execution_count": null,
   "metadata": {},
   "outputs": [],
   "source": [
    "import pandas as pd\n",
    "\n",
    "clientes = pd.read_csv('arquivos/clientes.csv')\n",
    "pedidos = pd.read_csv('arquivos/pedidos.csv')\n",
    "\n",
    "pedidos.head(5)\n",
    "\n",
    "# Filtragem simples(1 condição)\n",
    "abaixo_100 = pedidos[pedidos['preco_unitario'] < 100]\n",
    "abaixo_100.head(5)\n",
    "\n",
    "# Filtragem simples + seleção de colunas a exibir\n",
    "pedidos_abaixo_100_colunas_produto_preco = pedidos.loc[pedidos['preco_unitario'] < 100,['produto','preco_unitario']]\n",
    "pedidos_abaixo_100_colunas_produto_preco.head(5)\n",
    "# condições compostas(necessário o uso de parênteses) - produtos com preco > 600 e com método de pagamento com PIX\n",
    "pix_acima_600 = pedidos[(pedidos['preco_unitario'] > 600) & (pedidos['metodo_pagamento'] == 'Pix')]\n",
    "pix_acima_600.head(5)\n",
    "# Condições compostas mais elaboradas - pix ou boleto and produto é bicicleta\n",
    "bicicleta_pix_ou_boleto = pedidos[((pedidos['metodo_pagamento'] == 'Pix') | (pedidos['metodo_pagamento'] == 'Boleto')) & (pedidos['produto'] == 'Laptop')]\n",
    "bicicleta_pix_ou_boleto.head(5)"
   ]
  }
 ],
 "metadata": {
  "kernelspec": {
   "display_name": "Python 3",
   "language": "python",
   "name": "python3"
  },
  "language_info": {
   "name": "python",
   "version": "3.10.11"
  }
 },
 "nbformat": 4,
 "nbformat_minor": 2
}
