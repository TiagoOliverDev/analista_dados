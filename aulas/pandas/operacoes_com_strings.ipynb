{
 "cells": [
  {
   "cell_type": "markdown",
   "id": "b18af912",
   "metadata": {},
   "source": [
    "Operações com Strings e Textos"
   ]
  },
  {
   "cell_type": "code",
   "execution_count": null,
   "id": "307a983b",
   "metadata": {},
   "outputs": [],
   "source": [
    "import pandas as pd\n",
    "\n",
    "mercado = pd.read_csv('arquivos/vendas-supermercado.csv')\n",
    "# Formatação simples em uma coluna\n",
    "mercado['Categoria'] = mercado['Categoria'].str.capitalize() # upper, lower, capitalize\n",
    "\n",
    "# Categorização e criação de nova coluna, com base em algum texto\n",
    "# Criar coluna \"eh_segunda_classe\" se o valor dentro de \"Modo de Envio\" for Segunda Classe\n",
    "mercado['eh_segunda_classe'] = mercado['Modo de Envio'].str.contains('Segunda Classe')\n",
    "\n",
    "# Substituir um string dentro de uma coluna\n",
    "mercado['Subcategoria'] = mercado['Subcategoria'].str.replace('Etiquetas','Adesivos')\n",
    "mercado.head(5)\n",
    "\n"
   ]
  }
 ],
 "metadata": {
  "kernelspec": {
   "display_name": "Python 3",
   "language": "python",
   "name": "python3"
  },
  "language_info": {
   "name": "python",
   "version": "3.10.11"
  }
 },
 "nbformat": 4,
 "nbformat_minor": 5
}
