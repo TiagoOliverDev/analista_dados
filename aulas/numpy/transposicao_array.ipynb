{
 "cells": [
  {
   "cell_type": "markdown",
   "metadata": {},
   "source": [
    "Manipulação de Formas e Transposição em Arrays"
   ]
  },
  {
   "cell_type": "code",
   "execution_count": null,
   "metadata": {},
   "outputs": [
    {
     "ename": "SyntaxError",
     "evalue": "invalid syntax (816703436.py, line 20)",
     "output_type": "error",
     "traceback": [
      "\u001b[1;36m  Cell \u001b[1;32mIn[1], line 20\u001b[1;36m\u001b[0m\n\u001b[1;33m    print(\"Shape matriz vendas_loja_2:\", vendas_loja_2.shape)\"\"\u001b[0m\n\u001b[1;37m                                                             ^\u001b[0m\n\u001b[1;31mSyntaxError\u001b[0m\u001b[1;31m:\u001b[0m invalid syntax\n"
     ]
    }
   ],
   "source": [
    "import numpy as np\n",
    "\n",
    "# Manipulação do shape de arrays e matrizes\n",
    "vendas = np.array([100, 200, 150, 170])\n",
    "\n",
    "vendas_loja_1 = np.array([[759, 450],\n",
    "                          [350, 299]])\n",
    "\n",
    "vendas_loja_2 = np.array([[250, 298],\n",
    "                          [355, 295],\n",
    "                          [775, 135]]) #3x2 ->2x3\n",
    "\n",
    "vendas_loja_3 = np.array([[852, 199],\n",
    "                          [123, 345],\n",
    "                          [465, 678],\n",
    "                          [345,644]]) # 4x2 ->2x4 -> 8x1\n",
    "\n",
    "print(\"Shape array vendas:\", vendas.shape)\n",
    "print(\"Shape matriz vendas_loja_1:\", vendas_loja_1.shape)\n",
    "print(\"Shape matriz vendas_loja_2:\", vendas_loja_2.shape)\n",
    "print(\"Shape matriz vendas_loja_3:\", vendas_loja_3.shape)\n",
    "\n",
    "# Reshape - Alterar o shape(formato de um array ou matriz)\n",
    "print(f'Shape array vendas: {vendas.reshape(2,2)}')\n",
    "print(f'Shape vendas_loja_2 = {vendas_loja_2.reshape(2,3)}')\n",
    "print(f'Shape vendas_loja_3 = {vendas_loja_3.reshape(8,1)}')\n",
    "\n",
    "# Transposição - (inverter as dimensões de um array)\n",
    "nova_vendas_loja_2_transposta = vendas_loja_2.T\n",
    "print(nova_vendas_loja_2_transposta)\n"
   ]
  }
 ],
 "metadata": {
  "kernelspec": {
   "display_name": "Python 3",
   "language": "python",
   "name": "python3"
  },
  "language_info": {
   "codemirror_mode": {
    "name": "ipython",
    "version": 3
   },
   "file_extension": ".py",
   "mimetype": "text/x-python",
   "name": "python",
   "nbconvert_exporter": "python",
   "pygments_lexer": "ipython3",
   "version": "3.11.9"
  }
 },
 "nbformat": 4,
 "nbformat_minor": 2
}
