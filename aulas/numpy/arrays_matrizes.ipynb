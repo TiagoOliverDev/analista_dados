{
 "cells": [
  {
   "cell_type": "markdown",
   "metadata": {},
   "source": [
    "Arrays(vetores)\n",
    "São como listas no python (porém um array, pode ter apenas um tipo de dados)"
   ]
  },
  {
   "cell_type": "code",
   "execution_count": 1,
   "metadata": {},
   "outputs": [
    {
     "data": {
      "text/plain": [
       "2"
      ]
     },
     "execution_count": 1,
     "metadata": {},
     "output_type": "execute_result"
    }
   ],
   "source": [
    "import numpy as np\n",
    "\n",
    "\n",
    "# Um array de números\n",
    "numeros = np.array([1,2,3])\n",
    "numeros\n",
    "\n",
    "# Matriz 2x3\n",
    "matriz = np.array([[1,2,3], [4,5,6]])\n",
    "matriz\n",
    "\n",
    "# Tipo de dados\n",
    "tipo_dados = numeros.dtype\n",
    "tipo_dados\n",
    "\n",
    "# shape(formato)\n",
    "shape = matriz.shape\n",
    "shape\n",
    "\n",
    "# size (tamanho, quantidade)\n",
    "size = matriz.size\n",
    "size\n",
    "\n",
    "# ndim (dimensão)\n",
    "dimensao = matriz.ndim\n",
    "dimensao\n",
    "\n",
    "\n",
    "\n",
    "\n"
   ]
  }
 ],
 "metadata": {
  "kernelspec": {
   "display_name": "Python 3",
   "language": "python",
   "name": "python3"
  },
  "language_info": {
   "codemirror_mode": {
    "name": "ipython",
    "version": 3
   },
   "file_extension": ".py",
   "mimetype": "text/x-python",
   "name": "python",
   "nbconvert_exporter": "python",
   "pygments_lexer": "ipython3",
   "version": "3.10.11"
  }
 },
 "nbformat": 4,
 "nbformat_minor": 2
}
