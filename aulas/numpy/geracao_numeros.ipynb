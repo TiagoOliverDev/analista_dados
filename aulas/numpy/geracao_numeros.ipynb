{
 "cells": [
  {
   "cell_type": "markdown",
   "metadata": {},
   "source": [
    "Geração de Números para testes e simulações"
   ]
  },
  {
   "cell_type": "code",
   "execution_count": 7,
   "metadata": {},
   "outputs": [
    {
     "name": "stdout",
     "output_type": "stream",
     "text": [
      "valores uniformes: [ 1.    3.25  5.5   7.75 10.  ]\n",
      "Valor aleatório inteiro [ 5 19 19 17  8  4 15 11  3  4]\n",
      "matriz aleatória [[ 6  3 14]\n",
      " [12  1 19]]\n",
      "Peso aleatório [20 50 20]\n",
      "Array embaralhado [105  70  94  80  86]\n",
      "Idades original [10, 20, 30]\n",
      "Idades embaralhadas [20 10 30]\n"
     ]
    }
   ],
   "source": [
    "import numpy as np\n",
    "\n",
    "# Geração de dados de teste com Numpy!\n",
    "\n",
    "# Dados Sequenciais\n",
    "# Gerar arrays\n",
    "valores_positivos = np.arange(5,10,2) # início, fim, pulo\n",
    "valores_negativos = np.arange(-10,10,2) # início, fim, pulo\n",
    "valores_impares = np.arange(1,100,2) # gerar valores ímpares\n",
    "\n",
    "# Gerar valores uniformemente distribuidos\n",
    "valores = np.linspace(1,10,5) # inicial, final(incluso), quantos itens\n",
    "print(f'valores uniformes: {valores}')\n",
    "\n",
    "# Dados aleatórios, mas que são sempre os mesmos\n",
    "np.random.seed()\n",
    "valor_aleatorio = np.random.randint(1,20,10)\n",
    "print(f'Valor aleatório inteiro {valor_aleatorio}')\n",
    "# Gerar matrizes com valores aleatórios\n",
    "matriz_2x3_aleatoria = np.random.randint(1,20,size=(2,3))\n",
    "print(f'matriz aleatória {matriz_2x3_aleatoria}')\n",
    "\n",
    "# Escolher aleatóriamente um valor, a partir de um array\n",
    "pesos = [20,40,50,60]\n",
    "peso_aleatorio = np.random.choice(pesos,3)\n",
    "print(f'Peso aleatório {peso_aleatorio}')\n",
    "\n",
    "# Permutação(embaralhar) do array original\n",
    "pesos = np.array([70,86,105,80,94])\n",
    "np.random.shuffle(pesos)\n",
    "print(f'Array embaralhado {pesos}')\n",
    "\n",
    "# Permutação(embaralhar), sem modificar o array original(gera um novo array)\n",
    "idades = [10,20,30]\n",
    "idades_embaralhadas = np.random.permutation(idades)\n",
    "print(f'Idades original {idades}')\n",
    "print(f'Idades embaralhadas {idades_embaralhadas}')"
   ]
  }
 ],
 "metadata": {
  "kernelspec": {
   "display_name": "Python 3",
   "language": "python",
   "name": "python3"
  },
  "language_info": {
   "codemirror_mode": {
    "name": "ipython",
    "version": 3
   },
   "file_extension": ".py",
   "mimetype": "text/x-python",
   "name": "python",
   "nbconvert_exporter": "python",
   "pygments_lexer": "ipython3",
   "version": "3.10.11"
  }
 },
 "nbformat": 4,
 "nbformat_minor": 2
}
