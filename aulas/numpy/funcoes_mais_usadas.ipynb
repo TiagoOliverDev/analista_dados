{
 "cells": [
  {
   "cell_type": "markdown",
   "metadata": {},
   "source": [
    "As Funções estatísticas MAIS usadas"
   ]
  },
  {
   "cell_type": "code",
   "execution_count": 12,
   "metadata": {},
   "outputs": [
    {
     "data": {
      "text/plain": [
       "array([2., 3., 5.])"
      ]
     },
     "execution_count": 12,
     "metadata": {},
     "output_type": "execute_result"
    }
   ],
   "source": [
    "import numpy as np\n",
    "\n",
    "\n",
    "numeros = np.array([4,9,2,10,7])\n",
    "\n",
    "\n",
    "# minimo\n",
    "np.min(numeros)\n",
    "\n",
    "# máximo\n",
    "np.max(numeros)\n",
    "\n",
    "# médio\n",
    "np.mean(numeros)\n",
    "\n",
    "# mediana\n",
    "np.median(numeros)\n",
    "\n",
    "# soma de todos\n",
    "np.sum(numeros)\n",
    "\n",
    "\n",
    "##### Encontrando indices de maior e menor valor dentro do array #####\n",
    "\n",
    "# retorna indice menor valor\n",
    "np.argmin(numeros)\n",
    "\n",
    "# retorna indice maior valor\n",
    "np.argmax(numeros)\n",
    "\n",
    "# soma acumulativa (soma com o valor anterior)\n",
    "np.cumsum(numeros)\n",
    "\n",
    "\n",
    "#### Aredondando valores\n",
    "decimais = np.array([2.5, 3.2, 4.8])\n",
    "np.round(decimais)\n",
    "\n",
    "\n"
   ]
  }
 ],
 "metadata": {
  "kernelspec": {
   "display_name": "Python 3",
   "language": "python",
   "name": "python3"
  },
  "language_info": {
   "codemirror_mode": {
    "name": "ipython",
    "version": 3
   },
   "file_extension": ".py",
   "mimetype": "text/x-python",
   "name": "python",
   "nbconvert_exporter": "python",
   "pygments_lexer": "ipython3",
   "version": "3.10.11"
  }
 },
 "nbformat": 4,
 "nbformat_minor": 2
}
