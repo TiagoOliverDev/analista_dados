{
 "cells": [
  {
   "cell_type": "markdown",
   "metadata": {},
   "source": [
    "Operações estatísticas avançadas do jeito fácil!"
   ]
  },
  {
   "cell_type": "code",
   "execution_count": null,
   "metadata": {},
   "outputs": [
    {
     "data": {
      "text/plain": [
       "2.0591260281974"
      ]
     },
     "execution_count": 7,
     "metadata": {},
     "output_type": "execute_result"
    }
   ],
   "source": [
    "import numpy as np\n",
    "\n",
    "\n",
    "# Exponenciação X elevado a Y\n",
    "np.power(5,3) # valores individuais\n",
    "numeros = np.array([1,2,3]) # para array\n",
    "np.power(numeros,2) \n",
    "\n",
    "# Logarítimo natural\n",
    "    # Para que potência eu preciso elevar o número (aprox 2.71) para obter esse número ?\n",
    "\n",
    "np.log(7) # encontra o logarítimo natural de um número\n",
    "\n",
    "    # também é possível encontrar o log natural de um determinado array\n",
    "\n",
    "np.log(numeros) # mostra o log de cada elemento do array\n",
    "\n",
    "# Raíz quadrada (qual número, multiplicado a sí mesmo, resulta em determinado valor)\n",
    "np.sqrt(16) # também pode calcular a raíz de um array\n",
    "\n",
    "# Desvio padrão (qual distante da média os valores estão ?)\n",
    "dados = np.array([50,50,47,53,52]) # 50.4 (média)\n",
    "np.std(dados) # desvio padrão para mais ou para menos\n",
    "\n",
    "\n",
    "\n"
   ]
  }
 ],
 "metadata": {
  "kernelspec": {
   "display_name": "Python 3",
   "language": "python",
   "name": "python3"
  },
  "language_info": {
   "codemirror_mode": {
    "name": "ipython",
    "version": 3
   },
   "file_extension": ".py",
   "mimetype": "text/x-python",
   "name": "python",
   "nbconvert_exporter": "python",
   "pygments_lexer": "ipython3",
   "version": "3.10.11"
  }
 },
 "nbformat": 4,
 "nbformat_minor": 2
}
