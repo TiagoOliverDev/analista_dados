{
 "cells": [
  {
   "cell_type": "markdown",
   "metadata": {},
   "source": [
    "Broadcasting Facilitando Cálculos entre arrays\n"
   ]
  },
  {
   "cell_type": "code",
   "execution_count": null,
   "metadata": {},
   "outputs": [
    {
     "data": {
      "text/plain": [
       "array([[2, 4, 4],\n",
       "       [5, 7, 7]])"
      ]
     },
     "execution_count": 5,
     "metadata": {},
     "output_type": "execute_result"
    }
   ],
   "source": [
    "import numpy as np\n",
    "\n",
    "\n",
    "array1 = np.array([1,2,3])\n",
    "valor = 5 # [5,5,5]\n",
    "\n",
    "# Broadcasting (irá esticar um valor que você definir para ter a mesma quantidade de itens que o array original)\n",
    "array1 + valor\n",
    "\n",
    "# somando matriz com um determinado valor\n",
    "matriz_2x3 =  np.array([[1,2,3],[4,5,6]])\n",
    "valor_2 = 2\n",
    "\n",
    "matriz_2x3 + valor_2\n",
    "\n",
    "# somando matriz com array (Broadcasting pois estica o array de numeros abaixo para somar com a matriz)\n",
    "matriz_2x3 =  np.array([[1,2,3],[4,5,6]])\n",
    "numeros = np.array([1,2,1])\n",
    "\n",
    "matriz_2x3 + numeros\n",
    "\n"
   ]
  }
 ],
 "metadata": {
  "kernelspec": {
   "display_name": "Python 3",
   "language": "python",
   "name": "python3"
  },
  "language_info": {
   "codemirror_mode": {
    "name": "ipython",
    "version": 3
   },
   "file_extension": ".py",
   "mimetype": "text/x-python",
   "name": "python",
   "nbconvert_exporter": "python",
   "pygments_lexer": "ipython3",
   "version": "3.10.11"
  }
 },
 "nbformat": 4,
 "nbformat_minor": 2
}
