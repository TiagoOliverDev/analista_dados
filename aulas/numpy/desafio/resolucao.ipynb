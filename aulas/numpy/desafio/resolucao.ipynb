{
 "cells": [
  {
   "cell_type": "markdown",
   "metadata": {},
   "source": [
    "Projeto Prático 1 - Análise Climatológica"
   ]
  },
  {
   "cell_type": "code",
   "execution_count": null,
   "metadata": {},
   "outputs": [
    {
     "name": "stdout",
     "output_type": "stream",
     "text": [
      "[172.0, 208.0, 201.0, 129.0, 78.0, 92.0, 106.0, 127.0, 145.0, 130.0, 130.0, 159.0, 13.0]\n"
     ]
    }
   ],
   "source": [
    "import numpy as np\n",
    "\n",
    "\n",
    "# desafio 1 - Calculo de média e desvio padrão\n",
    "dados = np.loadtxt(\"dados_climaticos.csv\", delimiter=\",\", skiprows=1)\n",
    "\n",
    "media_temp = np.mean(dados[:,0]) # : = acessar do inicio ao fim, 0 = coluna temperatura\n",
    "# print(media_temp)\n",
    "\n",
    "desvio_temp = np.std(dados[:,0])\n",
    "# print(desvio_temp)\n",
    "\n",
    "media_precip = np.mean(dados[:,1])\n",
    "# print(media_precip)\n",
    "\n",
    "desvio_precip = np.std(dados[:,1])\n",
    "# print(desvio_precip)\n",
    "\n",
    "\n",
    "# desafio 2 - Dias chuvosos\n",
    "dias_chuvosos = np.sum(dados[:,1] > 10)\n",
    "# print(dias_chuvosos)\n",
    "\n",
    "# desafio 3 - Variação de temperatura usando List Compreheension \n",
    "# temo max - temp min, por cada 30 dias, sobre todos os meses do ano\n",
    "\n",
    "amplitudes = [np.max(dados[i:i+30,0]) - np.min(dados[i:i+30,0]) for i in range(0,365,30)]\n",
    "# print(amplitudes)\n",
    "\n",
    "# Desafio 4 - precipitação mensal\n",
    "# encontrar e quebrar os dados em 30 dias\n",
    "\n",
    "precip_mensal = [np.sum(dados[i:i+30,1]) for i in range(0,365,30)]\n",
    "# print(precip_mensal)\n",
    "\n",
    "\n",
    "\n",
    "\n",
    "\n"
   ]
  }
 ],
 "metadata": {
  "kernelspec": {
   "display_name": "Python 3",
   "language": "python",
   "name": "python3"
  },
  "language_info": {
   "codemirror_mode": {
    "name": "ipython",
    "version": 3
   },
   "file_extension": ".py",
   "mimetype": "text/x-python",
   "name": "python",
   "nbconvert_exporter": "python",
   "pygments_lexer": "ipython3",
   "version": "3.10.11"
  }
 },
 "nbformat": 4,
 "nbformat_minor": 2
}
