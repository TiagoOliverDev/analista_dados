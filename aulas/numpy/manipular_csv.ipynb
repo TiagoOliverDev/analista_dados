{
 "cells": [
  {
   "cell_type": "markdown",
   "metadata": {},
   "source": [
    "12 - Leitura e Escrita de arquivos CSV"
   ]
  },
  {
   "cell_type": "code",
   "execution_count": null,
   "metadata": {},
   "outputs": [],
   "source": [
    "# Leitura e Criação de arquivos com numpy\n",
    "import numpy as np\n",
    "\n",
    "# Ler um arquivo\n",
    "dados = np.loadtxt('./dados.csv',delimiter=',')\n",
    "vendas = np.loadtxt('./vendas.csv',delimiter=',',skiprows=1)\n",
    "print(vendas)\n",
    "\n",
    "# Criar\n",
    "array_exemplo = np.array([[10, 11.234567, 12], [13, 14.63, 15], [16.555, 17, 18]])\n",
    "np.savetxt('./padrao.csv',array_exemplo,delimiter=',')\n",
    "np.savetxt('./inteiros.csv',array_exemplo,delimiter=',',fmt='%d')\n",
    "np.savetxt('./decimais_2casas_dec.csv',array_exemplo,delimiter=',',fmt='%.2f')\n",
    "np.savetxt('./decimais_3casas_dec.csv',array_exemplo,delimiter=',',fmt='%.6f')\n",
    "\n",
    "# Código do desafio(pontuações de jogadores) dentro do arquivo 'resultado_desafio.ipynb'\n",
    "\n",
    "# Uso para mundo real\n",
    "'''\n",
    "Você tem um arquivo chamado 'pontuacoes.csv' com as pontuações de um jogo. Cada linha do arquivo representa um jogador e suas respectivas pontuações ao longo de 5 jogos. Leia este arquivo e encontre o jogador com a maior pontuação média.\n",
    "'''\n",
    "pontuacoes = np.loadtxt('./pontuacoes.csv',delimiter=',')\n",
    "medias = np.median(pontuacoes,axis=1)\n",
    "top_player = np.argmax(medias)\n",
    "print(f'O jogador com a melhor média de {medias[top_player]} é o jogador com o índice {top_player}')\n",
    "print(f'O jogador com a melhor média de {medias[top_player]} é o jogador da linha {top_player+1}')\n",
    "\n",
    "\n"
   ]
  }
 ],
 "metadata": {
  "kernelspec": {
   "display_name": "Python 3",
   "language": "python",
   "name": "python3"
  },
  "language_info": {
   "name": "python",
   "version": "3.10.11"
  }
 },
 "nbformat": 4,
 "nbformat_minor": 2
}
